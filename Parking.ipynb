{
 "cells": [
  {
   "cell_type": "code",
   "execution_count": 1,
   "id": "c3e0d03f-6844-4851-8157-cdfb366bded8",
   "metadata": {},
   "outputs": [
    {
     "name": "stderr",
     "output_type": "stream",
     "text": [
      "/opt/anaconda3/lib/python3.8/site-packages/IPython/core/interactiveshell.py:3165: DtypeWarning: Columns (20,31,32) have mixed types.Specify dtype option on import or set low_memory=False.\n",
      "  has_raised = await self.run_ast_nodes(code_ast.body, cell_name,\n"
     ]
    }
   ],
   "source": [
    "import pandas as pd\n",
    "full_dt = pd.read_csv(\"311_Service_Requests_2020.csv\")\n",
    "my_zip_dt = full_dt[full_dt['Incident Zip'] == 10024.0]"
   ]
  },
  {
   "cell_type": "code",
   "execution_count": 10,
   "id": "b3a9aa03-1b22-499c-a280-c8ad694dcddf",
   "metadata": {},
   "outputs": [],
   "source": [
    "park_my_zip = my_zip_dt[my_zip_dt['Complaint Type'] == 'Illegal Parking']\n",
    "frac_my_zip = len(park_my_zip)/len(my_zip_dt)"
   ]
  },
  {
   "cell_type": "code",
   "execution_count": 11,
   "id": "4b5e9a42-9fb6-4da9-bde8-41dd9fe1f5e2",
   "metadata": {},
   "outputs": [],
   "source": [
    "park_full = full_dt[full_dt['Complaint Type'] == 'Illegal Parking']\n",
    "frac_full = len(park_full)/len(full_dt)"
   ]
  },
  {
   "cell_type": "code",
   "execution_count": 13,
   "id": "60ebfe5d-d3e7-4d89-8800-217c73b716ff",
   "metadata": {},
   "outputs": [],
   "source": [
    "higher_parking_proportion = frac_my_zip > frac_full"
   ]
  },
  {
   "cell_type": "code",
   "execution_count": 14,
   "id": "2f861e92-c389-4210-a705-6c26f76c3fd6",
   "metadata": {},
   "outputs": [
    {
     "name": "stdout",
     "output_type": "stream",
     "text": [
      "0.06522945232622653\n",
      "0.07487334365033108\n",
      "False\n"
     ]
    }
   ],
   "source": [
    "print(frac_my_zip)\n",
    "print(frac_full)\n",
    "print(higher_parking_proportion)"
   ]
  },
  {
   "cell_type": "markdown",
   "id": "2e09ebfa-9ec8-48d4-98ab-864707233de1",
   "metadata": {},
   "source": [
    "So, the fraction in my chosen zip code region is smaller"
   ]
  },
  {
   "cell_type": "code",
   "execution_count": null,
   "id": "b5ac3aa9-7868-4246-b4b5-ec74da1edacd",
   "metadata": {},
   "outputs": [],
   "source": []
  }
 ],
 "metadata": {
  "kernelspec": {
   "display_name": "Python 3",
   "language": "python",
   "name": "python3"
  },
  "language_info": {
   "codemirror_mode": {
    "name": "ipython",
    "version": 3
   },
   "file_extension": ".py",
   "mimetype": "text/x-python",
   "name": "python",
   "nbconvert_exporter": "python",
   "pygments_lexer": "ipython3",
   "version": "3.8.8"
  }
 },
 "nbformat": 4,
 "nbformat_minor": 5
}
